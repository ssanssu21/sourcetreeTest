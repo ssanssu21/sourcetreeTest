{
 "cells": [
  {
   "cell_type": "markdown",
   "metadata": {},
   "source": [
    "## Agenda\n",
    "\n",
    "1. 파이썬이 무엇인지 알아보도록 합니다.\n",
    "2. Jupyter가 무엇인지 알아보도록 합니다.\n",
    "3. 파이썬의 기초 문법을 배워보도록 합니다.\n",
    "4. Numpy의 기초를 배워보도록 합니다.\n",
    "5. Pandas의 기초를 배워보도록 합니다."
   ]
  },
  {
   "cell_type": "markdown",
   "metadata": {},
   "source": [
    "## 1. 파이썬(Python)\n",
    "\n",
    "파이썬(Python)은 1991년 발표된 이래로, 많은 사용자를 확보하고 코어프로그램 개발, 웹 프로그래밍, 데이터 분석 및 과학 프로그램 영역 등  \n",
    "다양한 분야에서 초보자부터 전문가까지 사용층을 보유하며 사용되어지는 프로그래밍 언어입니다. 파이썬은 다음과 같은 특징을 가지고 있습니다.\n",
    "\n",
    "1. 다양한 플랫폼에서 구동 가능\n",
    "2. 라이브러리(패키지, 모듈)가 풍부하여 다양한 분야에서 사용 가능\n",
    "3. 타 프로그래밍 언어로 구현된 모듈들을 연결할 수 있는 글루코드(Glue Code)로서의 역할 수행\n",
    "4. 공식 도움말 문서가 한글로 정리됨\n",
    "5. 유니코드 문자열을 지원하여 한글 등 여러가지 언어의 처리가 수월함\n",
    "6. 체계화 된 코드 작성법을 통하여 코드 리뷰가 수월함\n",
    "\n",
    "위와 같이 파이썬은 범용적으로 사용되며 파이썬 특유의 장점을 통해 데이터 분석 및 데이터 처리, 기계학습과의 연계를 수월하게 진행할 수 있습니다."
   ]
  },
  {
   "cell_type": "markdown",
   "metadata": {},
   "source": [
    "## 2. Jupyter\n",
    "\n",
    "Jupyter는 파이썬 프로그램 개발을 위해 사용되는 통합개발환경(IDE; Integrated Development Environment)입니다.  \n",
    "텍스트 에디터와 같이 사용가능하며 Markdown과 소스코드를 동시에 보여줄 수 있어 활용성이 큰 장점을 가지고 있습니다.  \n",
    "인터넷 브라우저 상에서 실행되어, 타 개발환경에 비해 리소스를 적게 차지하며 크롬 웹 브라우저에서 안정적으로 실행됩니다. "
   ]
  },
  {
   "cell_type": "markdown",
   "metadata": {},
   "source": [
    "### 2.2. Jupyter 사용\n",
    "\n",
    "Jupyter는 ipynb(iPython Notebook)파일과 그 내부의 셀(Cell)들로 이루어져 있으며, 각 셀에는 소스코드, 마크다운, 텍스트를 입력할 수 있습니다.  \n",
    "빈 셀을 클릭한 후, 상단의 실행 줄을 보시면 Code로 표시된 부분이 있습니다. 이 버튼을 클릭하여 소스코드(Code)와 마크다운(Markdown), 텍스트(Raw)를 선택할 수 있습니다.  \n",
    "이렇게 셀을 자유자재로 활용하며 코딩을 하시거나, 필요한 내용을 작성합니다.  \n",
    "\n",
    ">마크다운(Markdown)은 일반 텍스트 문서의 양식을 편집하는 문법입니다. README 파일이나 웹, 일반 텍스트 편집기로 문서 양식을 편집할 때 사용됩니다.  \n",
    "마크다운을 이용해 작성된 문서는 쉽게 HTML 등 다른 문서형태로 변환이 가능하며, 표나 목록 등을 손쉽게 만들 수 있도록 도와줍니다.\n",
    "\n",
    "각 셀에 소스코드를 작성하였다면 Ctrl + Enter 혹은 Shift + Enter를 사용하여 수행합니다.\n",
    "- Ctrl + Enter : 선택된 셀 수행\n",
    "- Shift + Enter : 선택된 셀 수행 후 하단의 셀로 이동(하단의 셀이 없는 경우, 빈 셀 생성)\n",
    "\n",
    ">다음 단축키를 사용하면 더 손쉽게 이용가능합니다.  \n",
    "a : 선택된 셀의 바로 위에 빈 셀을 생성  \n",
    "b : 선택된 셀의 바로 밑에 빈 셀을 생성  \n",
    "dd : 선택된 셀을 삭제  \n",
    "z : 셀 삭제 등의 행동 되돌리기  \n",
    "Shift + z : 행동 다시 수행"
   ]
  },
  {
   "cell_type": "code",
   "execution_count": 1,
   "metadata": {},
   "outputs": [
    {
     "name": "stdout",
     "output_type": "stream",
     "text": [
      "셀 수행 테스트\n"
     ]
    }
   ],
   "source": [
    "print ('셀 수행 테스트')"
   ]
  },
  {
   "cell_type": "markdown",
   "metadata": {},
   "source": [
    "## 3. 파이썬 기초"
   ]
  },
  {
   "cell_type": "markdown",
   "metadata": {},
   "source": [
    "### 3.1. Hello World!\n",
    "\n",
    "파이썬 혹은 R이나 C++, Java, Matlab 등의 프로그래밍 언어는 코드를 사용하여 무언가를 컴퓨터에게 명령하고 그 결과를 다시 우리에게 전달하는 과정을 반복하게 됩니다.  \n",
    "그 중에서 print 함수는 가장 기초가 되는 명령입니다.  \n",
    "\n",
    "다음과 같이 print 함수를 사용하여 입력 값을 리턴해봅시다."
   ]
  },
  {
   "cell_type": "code",
   "execution_count": 4,
   "metadata": {},
   "outputs": [
    {
     "name": "stdout",
     "output_type": "stream",
     "text": [
      "Hello World!\n"
     ]
    }
   ],
   "source": [
    "# print 함수를 사용한 출력\n",
    "print(\"Hello World!\")\n"
   ]
  },
  {
   "cell_type": "code",
   "execution_count": 3,
   "metadata": {},
   "outputs": [
    {
     "name": "stdout",
     "output_type": "stream",
     "text": [
      "Hello World !\n"
     ]
    }
   ],
   "source": [
    "# print 함수를 사용한 여러 문자열 출력\n",
    "print('Hello', 'World', '!')"
   ]
  },
  {
   "cell_type": "markdown",
   "metadata": {},
   "source": [
    "### 3.2. 자료형(Data Type)\n",
    "\n",
    "파이썬은 C나 C++ 같은 오래된 언어와 달리 자료형을 미리 선언하지 않고 사용할 수 있도록 설계되어있습니다.  \n",
    "변수를 선언할 때 자동으로 변수의 자료형을 캐치하여 변수의 내부 정보에 저장하게 됩니다.\n",
    "\n",
    "파이썬에서 제공하는 자료형은 크게 두가지로 나눌 수 있습니다.\n",
    "\n",
    "- 숫자형 : float, int\n",
    "- 문자형 : string\n",
    "\n",
    "위 변수들이 어떻게 적용되는지 다음과 같이 살펴보도록 합니다."
   ]
  },
  {
   "cell_type": "markdown",
   "metadata": {},
   "source": [
    "#### 3.2.1. 숫자형\n",
    "\n",
    "숫자형 자료형에는 실수형(float)과 정수형(int) 변수가 있습니다.  \n",
    "파이썬에서는 변수에 숫자값을 저장할 때, 변수의 내부 정보에 자료형을 자동으로 선택하여 저장하게 됩니다.  \n",
    "선언된 변수는 type 함수를 사용함으로써 해당 변수의 자료형을 확인할 수 있습니다."
   ]
  },
  {
   "cell_type": "code",
   "execution_count": 5,
   "metadata": {},
   "outputs": [
    {
     "name": "stdout",
     "output_type": "stream",
     "text": [
      "3.5\n"
     ]
    }
   ],
   "source": [
    "# 실수형 변수 저장\n",
    "numberValue = 3.5\n",
    "print(numberValue)"
   ]
  },
  {
   "cell_type": "code",
   "execution_count": 6,
   "metadata": {},
   "outputs": [
    {
     "name": "stdout",
     "output_type": "stream",
     "text": [
      "<class 'float'>\n"
     ]
    }
   ],
   "source": [
    "# 변수 타입 확인\n",
    "print(type(numberValue))"
   ]
  },
  {
   "cell_type": "code",
   "execution_count": 7,
   "metadata": {},
   "outputs": [
    {
     "name": "stdout",
     "output_type": "stream",
     "text": [
      "3\n"
     ]
    }
   ],
   "source": [
    "# 정수형 변수 저장\n",
    "numberValue = 3\n",
    "print(numberValue)"
   ]
  },
  {
   "cell_type": "code",
   "execution_count": 8,
   "metadata": {},
   "outputs": [
    {
     "name": "stdout",
     "output_type": "stream",
     "text": [
      "<class 'int'>\n"
     ]
    }
   ],
   "source": [
    "# 변수 타입 확인\n",
    "print(type(numberValue))"
   ]
  },
  {
   "cell_type": "code",
   "execution_count": 10,
   "metadata": {},
   "outputs": [
    {
     "name": "stdout",
     "output_type": "stream",
     "text": [
      "3.0\n"
     ]
    }
   ],
   "source": [
    "# 정수를 실수형 변수로 저장\n",
    "numberValue = float(3)\n",
    "print(numberValue)"
   ]
  },
  {
   "cell_type": "code",
   "execution_count": 11,
   "metadata": {},
   "outputs": [
    {
     "name": "stdout",
     "output_type": "stream",
     "text": [
      "<class 'float'>\n"
     ]
    }
   ],
   "source": [
    "# 변수 타입 확인\n",
    "print(type(numberValue))"
   ]
  },
  {
   "cell_type": "markdown",
   "metadata": {},
   "source": [
    "숫자형 변수 간에는 다음과 같이 연산도 가능합니다.  \n",
    "실수형 변수와 정수형 변수 간의 연산 시에는 정수형 변수를 실수형 변수로 자동으로 변환하여 연산을 수행합니다."
   ]
  },
  {
   "cell_type": "code",
   "execution_count": 16,
   "metadata": {},
   "outputs": [],
   "source": [
    "# 숫자형 변수 선언\n",
    "numberOne = 4.5 # 정수형\n",
    "numberTwo = 2 # 실수형"
   ]
  },
  {
   "cell_type": "code",
   "execution_count": 14,
   "metadata": {},
   "outputs": [
    {
     "name": "stdout",
     "output_type": "stream",
     "text": [
      "6.5\n"
     ]
    }
   ],
   "source": [
    "# 변수간의 덧셈\n",
    "print(numberOne + numberTwo)"
   ]
  },
  {
   "cell_type": "code",
   "execution_count": 15,
   "metadata": {},
   "outputs": [
    {
     "name": "stdout",
     "output_type": "stream",
     "text": [
      "2.5\n"
     ]
    }
   ],
   "source": [
    "# 변수간의 뺄셈\n",
    "print(numberOne -  numberTwo)"
   ]
  },
  {
   "cell_type": "code",
   "execution_count": null,
   "metadata": {},
   "outputs": [],
   "source": [
    "# 변수간의 곱셈\n"
   ]
  },
  {
   "cell_type": "code",
   "execution_count": null,
   "metadata": {},
   "outputs": [],
   "source": [
    "# 변수간의 나눗"
   ]
  },
  {
   "cell_type": "code",
   "execution_count": null,
   "metadata": {},
   "outputs": [],
   "source": [
    "# 변수의 제곱승\n"
   ]
  },
  {
   "cell_type": "markdown",
   "metadata": {},
   "source": [
    "#### 3.2.2. 문자형\n",
    "\n",
    "문자형은 따옴표(', \", ''')를 사용하여 표현하거나, 명시적으로 문자열임을 나타내어 변수로 저장합니다.  \n",
    "선언된 문자형 변수는 type 함수를 사용하여 해당 변수의 자료형을 확인할 수 있습니다."
   ]
  },
  {
   "cell_type": "code",
   "execution_count": 18,
   "metadata": {},
   "outputs": [
    {
     "name": "stdout",
     "output_type": "stream",
     "text": [
      "HELLO\n"
     ]
    }
   ],
   "source": [
    "# 문자형 변수 저장\n",
    "stringValue = 'HELLO'\n",
    "print(stringValue)"
   ]
  },
  {
   "cell_type": "code",
   "execution_count": 19,
   "metadata": {},
   "outputs": [
    {
     "name": "stdout",
     "output_type": "stream",
     "text": [
      "<class 'str'>\n"
     ]
    }
   ],
   "source": [
    "# 변수 타입 확인\n",
    "print(type(stringValue))"
   ]
  },
  {
   "cell_type": "code",
   "execution_count": 22,
   "metadata": {},
   "outputs": [
    {
     "name": "stdout",
     "output_type": "stream",
     "text": [
      "3\n"
     ]
    }
   ],
   "source": [
    "# 숫자를 문자형 변수로 저장\n",
    "stringValue = '3'\n",
    "print(stringValue)"
   ]
  },
  {
   "cell_type": "code",
   "execution_count": 23,
   "metadata": {},
   "outputs": [
    {
     "data": {
      "text/plain": [
       "str"
      ]
     },
     "execution_count": 23,
     "metadata": {},
     "output_type": "execute_result"
    }
   ],
   "source": [
    "# 변수 타입 확인\n",
    "type(stringValue)"
   ]
  },
  {
   "cell_type": "code",
   "execution_count": null,
   "metadata": {},
   "outputs": [],
   "source": [
    "# 숫자를 문자형 변수로 저장\n"
   ]
  },
  {
   "cell_type": "code",
   "execution_count": null,
   "metadata": {},
   "outputs": [],
   "source": [
    "# 변수 타입 확인\n"
   ]
  },
  {
   "cell_type": "markdown",
   "metadata": {},
   "source": [
    "앞서 문자형을 선언할 때 따옴표를 사용하여 선언한다고 알려드렸습니다.  \n",
    "\n",
    "> <i>펭수 다이어리, 예약판매 3시간 만에 '1만부'…인기폭발</i>\n",
    "\n",
    "하지만 위와 같이 문장안에 문장부호로서 따옴표가 들어가는 경우 어디까지가 변수인지 어디까지가 문장부호인지 알 수 없습니다.  "
   ]
  },
  {
   "cell_type": "code",
   "execution_count": 29,
   "metadata": {},
   "outputs": [
    {
     "data": {
      "text/plain": [
       "\"펭수 다이어리, 예약판매 3시간 만에 '1만부'…인기폭발\""
      ]
     },
     "execution_count": 29,
     "metadata": {},
     "output_type": "execute_result"
    }
   ],
   "source": [
    "stringValue = '펭수 다이어리, 예약판매 3시간 만에 \\'1만부\\'…인기폭발'\n",
    "stringValue"
   ]
  },
  {
   "cell_type": "markdown",
   "metadata": {},
   "source": [
    "위 셀을 실행시켜 보면 에러가 발생하는 것을 확인할 수 있습니다.  \n",
    "이 경우 다음과 같은 방법으로 변수안에 문장부호를 넣을 수 있습니다.\n",
    "\n",
    "1. ', \", '''의 혼용\n",
    "2. escape 문자의 활용\n",
    "\n",
    "'와 \", ''' 모두 문자형 변수를 선언하는데 사용되며 '''의 경우 여러 줄이 포함된 문자열을 한번에 포함할 수 있습니다."
   ]
  },
  {
   "cell_type": "code",
   "execution_count": 30,
   "metadata": {},
   "outputs": [
    {
     "data": {
      "text/plain": [
       "\"펭수 다이어리, 예약판매 3시간 만에 '1만부'…인기폭발\""
      ]
     },
     "execution_count": 30,
     "metadata": {},
     "output_type": "execute_result"
    }
   ],
   "source": [
    "# ', \"의 혼용\n",
    "stringValue = \"펭수 다이어리, 예약판매 3시간 만에 '1만부'…인기폭발\"\n",
    "stringValue"
   ]
  },
  {
   "cell_type": "code",
   "execution_count": 28,
   "metadata": {},
   "outputs": [
    {
     "data": {
      "text/plain": [
       "'펭수 다이어리, 예약판매 3시간 만에 1만부…인기폭발'"
      ]
     },
     "execution_count": 28,
     "metadata": {},
     "output_type": "execute_result"
    }
   ],
   "source": [
    "# '''을 사용한 문자열 생성\n",
    "stringValue = '''펭수 다이어리, 예약판매 3시간 만에 1만부…인기폭발'''\n",
    "stringValue"
   ]
  },
  {
   "cell_type": "code",
   "execution_count": 31,
   "metadata": {},
   "outputs": [
    {
     "data": {
      "text/plain": [
       "\"펭수 다이어리, 예약판매 3시간 만에 '1만부'…인기폭발\""
      ]
     },
     "execution_count": 31,
     "metadata": {},
     "output_type": "execute_result"
    }
   ],
   "source": [
    "# escape 문자를 활용\n",
    "stringValue = '펭수 다이어리, 예약판매 3시간 만에 \\'1만부\\'…인기폭발'\n",
    "stringValue"
   ]
  },
  {
   "cell_type": "markdown",
   "metadata": {},
   "source": [
    "문자형 변수도 연산이 가능합니다.  \n",
    "하지만, 숫자형 변수와는 달리 합연산과 곱연산만 가능합니다."
   ]
  },
  {
   "cell_type": "code",
   "execution_count": 32,
   "metadata": {},
   "outputs": [],
   "source": [
    "# 문자형 변수 선언\n",
    "stringValue = '펭수'"
   ]
  },
  {
   "cell_type": "code",
   "execution_count": 33,
   "metadata": {},
   "outputs": [
    {
     "name": "stdout",
     "output_type": "stream",
     "text": [
      "펭수다이어리\n"
     ]
    }
   ],
   "source": [
    "# 문자형 변수의 덧셈\n",
    "print(stringValue + '다이어리')"
   ]
  },
  {
   "cell_type": "code",
   "execution_count": 34,
   "metadata": {},
   "outputs": [
    {
     "ename": "TypeError",
     "evalue": "can only concatenate str (not \"int\") to str",
     "output_type": "error",
     "traceback": [
      "\u001b[1;31m---------------------------------------------------------------------------\u001b[0m",
      "\u001b[1;31mTypeError\u001b[0m                                 Traceback (most recent call last)",
      "\u001b[1;32m<ipython-input-34-b9a3ea08d395>\u001b[0m in \u001b[0;36m<module>\u001b[1;34m\u001b[0m\n\u001b[0;32m      1\u001b[0m \u001b[1;31m# 문자형 변수의 덧셈\u001b[0m\u001b[1;33m\u001b[0m\u001b[1;33m\u001b[0m\u001b[1;33m\u001b[0m\u001b[0m\n\u001b[1;32m----> 2\u001b[1;33m \u001b[0mprint\u001b[0m\u001b[1;33m(\u001b[0m\u001b[0mstringValue\u001b[0m \u001b[1;33m+\u001b[0m \u001b[1;36m10000\u001b[0m\u001b[1;33m)\u001b[0m\u001b[1;33m\u001b[0m\u001b[1;33m\u001b[0m\u001b[0m\n\u001b[0m",
      "\u001b[1;31mTypeError\u001b[0m: can only concatenate str (not \"int\") to str"
     ]
    }
   ],
   "source": [
    "# 문자형 변수의 덧셈\n",
    "print(stringValue + 10000)\n"
   ]
  },
  {
   "cell_type": "code",
   "execution_count": 35,
   "metadata": {},
   "outputs": [
    {
     "name": "stdout",
     "output_type": "stream",
     "text": [
      "펭수10000\n"
     ]
    }
   ],
   "source": [
    "# 문자형 변수의 덧셈\n",
    "print(stringValue + '10000')"
   ]
  },
  {
   "cell_type": "code",
   "execution_count": 36,
   "metadata": {},
   "outputs": [
    {
     "name": "stdout",
     "output_type": "stream",
     "text": [
      "펭수펭수펭수\n"
     ]
    }
   ],
   "source": [
    "# 문자형 변수의 곱셈\n",
    "print(stringValue * 3)"
   ]
  },
  {
   "cell_type": "markdown",
   "metadata": {},
   "source": [
    ": 결과적으로 문자를 만들 때 덧샘과 곱샘의 용도는 서로 다른 문자 혹은 반복문자를 만들 때 용도를 활용 할 수 있음"
   ]
  },
  {
   "cell_type": "markdown",
   "metadata": {},
   "source": [
    "#### 3.2.3. 리스트(List)\n",
    "\n",
    "파이썬의 숫자형 변수와 문자열 변수는 각 변수에 저장된 값을 보여주거나 사용할 수 있도록 합니다.  \n",
    "하지만, 하나의 값으로는 프로그램을 만드는데 부족함이 있습니다.  \n",
    "예를 들어, 숫자의 집합이나 문자열을 모아서 처리하는 작업도 필요합니다. \n",
    "\n",
    "이러한 역할을 수행하는 것이 파이썬의 리스트 입니다.  \n",
    "리스트를 만들기 위해서는 대괄호([])안에 값을 채워넣고 변수로 저장합니다.\n",
    "\n",
    "> 리스트는 다차원 데이터 처리에 취약합니다.  \n",
    "다차원 데이터는 추후 설명할 Numpy나 Pandas등의 라이브러리를 사용하여 처리하도록 합니다."
   ]
  },
  {
   "cell_type": "code",
   "execution_count": 37,
   "metadata": {},
   "outputs": [
    {
     "name": "stdout",
     "output_type": "stream",
     "text": [
      "[5]\n"
     ]
    }
   ],
   "source": [
    "# 리스트 생성\n",
    "listArray = [5]\n",
    "\n",
    "print(listArray)"
   ]
  },
  {
   "cell_type": "code",
   "execution_count": 39,
   "metadata": {},
   "outputs": [
    {
     "name": "stdout",
     "output_type": "stream",
     "text": [
      "1\n"
     ]
    }
   ],
   "source": [
    "# 리스트의 길이 확인\n",
    "print(len(listArray))"
   ]
  },
  {
   "cell_type": "code",
   "execution_count": 40,
   "metadata": {},
   "outputs": [
    {
     "name": "stdout",
     "output_type": "stream",
     "text": [
      "<class 'list'>\n"
     ]
    }
   ],
   "source": [
    "# 변수 타입 확인\n",
    "print(type(listArray))"
   ]
  },
  {
   "cell_type": "code",
   "execution_count": 42,
   "metadata": {},
   "outputs": [
    {
     "name": "stdout",
     "output_type": "stream",
     "text": [
      "[5, 10, 15, 20]\n"
     ]
    }
   ],
   "source": [
    "# 5의 배수 리스트\n",
    "listArray = [5, 10, 15, 20]\n",
    "print(listArray)"
   ]
  },
  {
   "cell_type": "code",
   "execution_count": 43,
   "metadata": {},
   "outputs": [
    {
     "name": "stdout",
     "output_type": "stream",
     "text": [
      "4\n"
     ]
    }
   ],
   "source": [
    "# 리스트의 길이 확인\n",
    "print(len(listArray))"
   ]
  },
  {
   "cell_type": "code",
   "execution_count": 44,
   "metadata": {},
   "outputs": [
    {
     "name": "stdout",
     "output_type": "stream",
     "text": [
      "<class 'list'>\n"
     ]
    }
   ],
   "source": [
    "# 변수 타입 확인\n",
    "print(type(listArray))"
   ]
  },
  {
   "cell_type": "markdown",
   "metadata": {},
   "source": [
    "#### 3.2.4. 튜플(Tuple)\n",
    "\n",
    "튜플은 리스트와 유사한 역할을 하나, 리스트와 다른 점이 몇가지 있습니다.\n",
    "\n",
    "- 리스트는 변수로 저장하기 위해 대괄호([])를 사용한다면 튜플은 소괄호(())를 사용하여 변수로 저장합니다.\n",
    "- 리스트는 변수 안의 값을 바꿀 수 있지만, 튜플은 변수 안의 값을 바꿀 수 없습니다.\n",
    "\n",
    "리스트와 튜플은 둘 다 값들의 집합을 만드는데 사용되지만, 실제로 프로그램 내에서 사용하는 경우에는 구분하여 사용해야 합니다.  \n",
    "튜플 내부의 값은 바뀌지 않는다는 특징에 따라 프로그램이 수행되는 동안 특정 값이 바뀌지 않도록 설계한다면 튜플을 사용하고, 반대로 자주 바뀌는 값의 경우 리스트를 사용해야 합니다."
   ]
  },
  {
   "cell_type": "code",
   "execution_count": 47,
   "metadata": {},
   "outputs": [
    {
     "name": "stdout",
     "output_type": "stream",
     "text": [
      "(5,)\n"
     ]
    }
   ],
   "source": [
    "# 튜플 생성\n",
    "tupleArray = (5,)\n",
    "print(tupleArray)"
   ]
  },
  {
   "cell_type": "code",
   "execution_count": null,
   "metadata": {},
   "outputs": [],
   "source": [
    "# 튜플의 길이 확인\n"
   ]
  },
  {
   "cell_type": "code",
   "execution_count": null,
   "metadata": {},
   "outputs": [],
   "source": [
    "# 변수 타입 확인\n"
   ]
  },
  {
   "cell_type": "code",
   "execution_count": 48,
   "metadata": {},
   "outputs": [
    {
     "name": "stdout",
     "output_type": "stream",
     "text": [
      "(5, 10, 15, 20)\n"
     ]
    }
   ],
   "source": [
    "# 5의 배수 튜플\n",
    "tupleArray = (5, 10 ,15, 20)\n",
    "print(tupleArray)"
   ]
  },
  {
   "cell_type": "code",
   "execution_count": null,
   "metadata": {},
   "outputs": [],
   "source": [
    "# 튜플의 길이 확인\n"
   ]
  },
  {
   "cell_type": "code",
   "execution_count": null,
   "metadata": {},
   "outputs": [],
   "source": [
    "# 변수 타입 확인\n"
   ]
  },
  {
   "cell_type": "code",
   "execution_count": null,
   "metadata": {},
   "outputs": [],
   "source": [
    "# 5의 배수 튜플\n"
   ]
  },
  {
   "cell_type": "code",
   "execution_count": null,
   "metadata": {},
   "outputs": [],
   "source": [
    "# 변수 타입 확인\n"
   ]
  },
  {
   "cell_type": "markdown",
   "metadata": {},
   "source": [
    "#### 3.2.5. 딕셔너리(Dictionary)\n",
    "\n",
    "딕셔너리 자료형은 리스트나 튜플 자료형과는 달리, 한 쌍의 Key와 Value로 구성되어 있습니다.  \n",
    "Key를 통해 Value값을 찾아내는 구조로 되어있으며, 변하지 않는 속성을 가진 Key를 통해 Value를 쉽게 찾을 수 있는 장점이 있습니다.  \n",
    "Key값은 문자형과 숫자형 모두 사용가능하나, 중복된 Key값이 있다면 하나를 제외한 나머지는 무시되므로 중복에 주의하여 사용하여야 합니다.  \n",
    "\n",
    "딕셔너리 자료형을 만들기 위해서는 중괄호({})를 사용하여 Key값과 Value값을 선언해줍니다."
   ]
  },
  {
   "cell_type": "code",
   "execution_count": 50,
   "metadata": {},
   "outputs": [],
   "source": [
    "# 딕셔너리 생성\n",
    "dictionaryData = {'Subject' : ['Korean', 'English', 'Math', 'Science'],\n",
    "                 'Score' : [100, 83, 92, 91]}"
   ]
  },
  {
   "cell_type": "code",
   "execution_count": 51,
   "metadata": {},
   "outputs": [
    {
     "data": {
      "text/plain": [
       "dict"
      ]
     },
     "execution_count": 51,
     "metadata": {},
     "output_type": "execute_result"
    }
   ],
   "source": [
    "# 변수 타입 확인\n",
    "type(dictionaryData)"
   ]
  },
  {
   "cell_type": "code",
   "execution_count": 52,
   "metadata": {},
   "outputs": [
    {
     "data": {
      "text/plain": [
       "['Korean', 'English', 'Math', 'Science']"
      ]
     },
     "execution_count": 52,
     "metadata": {},
     "output_type": "execute_result"
    }
   ],
   "source": [
    "# Subject 인덱스의 값 구하기\n",
    "dictionaryData['Subject']"
   ]
  },
  {
   "cell_type": "code",
   "execution_count": 53,
   "metadata": {},
   "outputs": [
    {
     "data": {
      "text/plain": [
       "[100, 83, 92, 91]"
      ]
     },
     "execution_count": 53,
     "metadata": {},
     "output_type": "execute_result"
    }
   ],
   "source": [
    "# Score 인덱스의 값 구하기\n",
    "dictionaryData['Score']"
   ]
  },
  {
   "cell_type": "markdown",
   "metadata": {},
   "source": [
    "### 3.3. 인덱싱과 슬라이싱\n",
    "\n",
    "위와 같은 데이터 집합을 사용하는 경우, 특정 값만을 뽑아내거나 사용해야 하는 경우가 발생합니다.  \n",
    "이 경우, 리스트(혹은 튜플)에서 인덱싱과 슬라이싱을 사용할 수 있습니다."
   ]
  },
  {
   "cell_type": "markdown",
   "metadata": {},
   "source": [
    "#### 3.3.1. 인덱싱\n",
    "\n",
    "인덱싱은 특정한 값을 가리킨다는 의미입니다.  \n",
    "리스트(혹은 튜플)에서 특정한 값을 가리키기 위해서는 대괄호([])를 사용하여 위치를 가리키게 됩니다."
   ]
  },
  {
   "cell_type": "code",
   "execution_count": 54,
   "metadata": {},
   "outputs": [
    {
     "name": "stdout",
     "output_type": "stream",
     "text": [
      "[1, 2, 3, 4, 5, 6, 7, 8, 9, 10]\n"
     ]
    }
   ],
   "source": [
    "# 리스트 배열 생성\n",
    "listArray = [1, 2, 3, 4, 5, 6, 7, 8, 9, 10]\n",
    "print (listArray)"
   ]
  },
  {
   "cell_type": "code",
   "execution_count": 55,
   "metadata": {},
   "outputs": [
    {
     "name": "stdout",
     "output_type": "stream",
     "text": [
      "8\n"
     ]
    }
   ],
   "source": [
    "# 7이라는 값을 찾기 위한 인덱싱\n",
    "print(listArray[7])"
   ]
  },
  {
   "cell_type": "markdown",
   "metadata": {},
   "source": [
    "listArray 변수에서 7번째 있는 값을 선택했지만, 8이라는 값이 출력되었습니다.  \n",
    "파이썬에서는 배열이 0부터 시작하므로, 실제로 7이라는 값을 찾기 위해서는 0부터 7번째값인 6을 넣어주어야 합니다."
   ]
  },
  {
   "cell_type": "code",
   "execution_count": 57,
   "metadata": {},
   "outputs": [
    {
     "data": {
      "text/plain": [
       "7"
      ]
     },
     "execution_count": 57,
     "metadata": {},
     "output_type": "execute_result"
    }
   ],
   "source": [
    "# 7이라는 값을 찾기 위한 인덱싱\n",
    "listArray[6]"
   ]
  },
  {
   "cell_type": "code",
   "execution_count": 58,
   "metadata": {},
   "outputs": [
    {
     "name": "stdout",
     "output_type": "stream",
     "text": [
      "(1, 2, 3, 4, 5, 6, 7, 8, 9, 10)\n"
     ]
    }
   ],
   "source": [
    "# 튜플 배열 생성\n",
    "tupleArray = (1, 2, 3, 4, 5, 6, 7, 8, 9, 10)\n",
    "print (tupleArray)"
   ]
  },
  {
   "cell_type": "code",
   "execution_count": 59,
   "metadata": {},
   "outputs": [
    {
     "data": {
      "text/plain": [
       "7"
      ]
     },
     "execution_count": 59,
     "metadata": {},
     "output_type": "execute_result"
    }
   ],
   "source": [
    "# 7이라는 값을 찾기 위한 인덱싱\n",
    "tupleArray[6]"
   ]
  },
  {
   "cell_type": "markdown",
   "metadata": {},
   "source": [
    "다차원 형태를 가지는 리스트(혹은 튜플)에서는 대괄호([])를 반복 사용하여 차원을 구분해줌으로써 인덱싱을 수행합니다.  \n",
    "다음 2차원 배열에서 8이라는 값을 찾아보도록 합니다."
   ]
  },
  {
   "cell_type": "code",
   "execution_count": 60,
   "metadata": {},
   "outputs": [
    {
     "name": "stdout",
     "output_type": "stream",
     "text": [
      "[[1, 2, 3, 4, 5], [6, 7, 8, 9, 10], [11, 12, 13, 14, 15]]\n"
     ]
    }
   ],
   "source": [
    "# 리스트 배열 생성\n",
    "listArray = [[1, 2, 3, 4, 5], \n",
    "             [6, 7, 8, 9, 10],\n",
    "             [11, 12, 13, 14, 15]]\n",
    "print (listArray)"
   ]
  },
  {
   "cell_type": "markdown",
   "metadata": {},
   "source": [
    "위 listArray 변수는 3x5 행렬의 형태를 가지고 있습니다.  \n",
    "8이라는 값을 선택하기 위해서는 2번째 행의 3번째 열에 있는 값을 선택해야 합니다.  "
   ]
  },
  {
   "cell_type": "code",
   "execution_count": 62,
   "metadata": {},
   "outputs": [
    {
     "data": {
      "text/plain": [
       "8"
      ]
     },
     "execution_count": 62,
     "metadata": {},
     "output_type": "execute_result"
    }
   ],
   "source": [
    "# 8이라는 값을 찾기 위한 인덱싱\n",
    "listArray[1][2]"
   ]
  },
  {
   "cell_type": "code",
   "execution_count": 63,
   "metadata": {},
   "outputs": [
    {
     "name": "stdout",
     "output_type": "stream",
     "text": [
      "((1, 2, 3, 4, 5), (6, 7, 8, 9, 10), (11, 12, 13, 14, 15))\n"
     ]
    }
   ],
   "source": [
    "# 튜플 배열 생성\n",
    "tupleArray = ((1, 2, 3, 4, 5), \n",
    "             (6, 7, 8, 9, 10),\n",
    "             (11, 12, 13, 14, 15))\n",
    "print (tupleArray)"
   ]
  },
  {
   "cell_type": "code",
   "execution_count": 66,
   "metadata": {},
   "outputs": [
    {
     "data": {
      "text/plain": [
       "(6, 7, 8, 9, 10)"
      ]
     },
     "execution_count": 66,
     "metadata": {},
     "output_type": "execute_result"
    }
   ],
   "source": [
    "# 8이라는 값을 찾기 위한 인덱싱\n",
    "tupleArray[1]"
   ]
  },
  {
   "cell_type": "markdown",
   "metadata": {},
   "source": [
    "특정한 값을 찾는 방법에는 마이너스 부호(-)를 사용한 인덱싱 방법이 있습니다.  \n",
    "마이너스 부호를 사용하여 인덱싱을 하게 되는 경우, 마지막 값부터 개수를 세어 인덱싱을 수행합니다."
   ]
  },
  {
   "cell_type": "code",
   "execution_count": 67,
   "metadata": {},
   "outputs": [
    {
     "data": {
      "text/plain": [
       "14"
      ]
     },
     "execution_count": 67,
     "metadata": {},
     "output_type": "execute_result"
    }
   ],
   "source": [
    "# 맨 마지막 행의 뒤에서 2번째 열에 해당하는 값을 찾기 위한 인덱싱\n",
    "listArray[-1][-2]"
   ]
  },
  {
   "cell_type": "markdown",
   "metadata": {},
   "source": [
    "#### 3.3.2. 슬라이싱\n",
    "\n",
    "슬라이싱은 말 그대로 특정한 범위를 잘라낸다는 의미입니다.  \n",
    "리스트(혹은 튜플)에서 특정한 값을 가리키기 위해서는 대괄호([])와 콜론(:)을 사용하여 위치를 가리키게 됩니다."
   ]
  },
  {
   "cell_type": "code",
   "execution_count": 68,
   "metadata": {},
   "outputs": [
    {
     "name": "stdout",
     "output_type": "stream",
     "text": [
      "[1, 2, 3, 4, 5, 6, 7, 8, 9, 10]\n"
     ]
    }
   ],
   "source": [
    "# 리스트 배열 생성\n",
    "listArray = [1, 2, 3, 4, 5, 6, 7, 8, 9, 10]\n",
    "print (listArray)"
   ]
  },
  {
   "cell_type": "markdown",
   "metadata": {},
   "source": [
    "listArray 변수에는 1부터 10까지의 값이 저장되어 있습니다.  \n",
    "이 중에서 5이상 9미만의 값을 잘라내어 확인하고자 하는 경우, 다음과 같이 슬라이싱을 수행할 수 있습니다."
   ]
  },
  {
   "cell_type": "code",
   "execution_count": 70,
   "metadata": {},
   "outputs": [
    {
     "data": {
      "text/plain": [
       "[5, 6, 7, 8]"
      ]
     },
     "execution_count": 70,
     "metadata": {},
     "output_type": "execute_result"
    }
   ],
   "source": [
    "# 5이상 9미만의 값을 찾기 위한 슬라이싱\n",
    "listArray[4:8]"
   ]
  },
  {
   "cell_type": "markdown",
   "metadata": {},
   "source": [
    "5이상의 값 전부를 확인하고자 하는 경우, 콜론(:)뒤의 값을 제거하여 맨 마지막 값까지 잘라낼 수 있습니다."
   ]
  },
  {
   "cell_type": "code",
   "execution_count": 71,
   "metadata": {},
   "outputs": [
    {
     "data": {
      "text/plain": [
       "[5, 6, 7, 8, 9, 10]"
      ]
     },
     "execution_count": 71,
     "metadata": {},
     "output_type": "execute_result"
    }
   ],
   "source": [
    "# 5이상의 값을 찾기 위한 슬라이싱\n",
    "listArray[4: ]"
   ]
  },
  {
   "cell_type": "markdown",
   "metadata": {},
   "source": [
    "인덱싱과 마찬가지로, 마이너스 부호(-)를 사용하면 뒤에서부터 개수를 세어 잘라낼 수 있습니다."
   ]
  },
  {
   "cell_type": "code",
   "execution_count": 72,
   "metadata": {},
   "outputs": [
    {
     "data": {
      "text/plain": [
       "[8, 9]"
      ]
     },
     "execution_count": 72,
     "metadata": {},
     "output_type": "execute_result"
    }
   ],
   "source": [
    "# 뒤에서 3번째 값 부터 뒤에서 첫번째 값을 찾기 위한 슬라이싱\n",
    "listArray[-3:-1]"
   ]
  },
  {
   "cell_type": "code",
   "execution_count": 73,
   "metadata": {},
   "outputs": [
    {
     "data": {
      "text/plain": [
       "[8, 9, 10]"
      ]
     },
     "execution_count": 73,
     "metadata": {},
     "output_type": "execute_result"
    }
   ],
   "source": [
    "# 뒤에서 3번째 값 부터 뒤에서 첫번째 값을 찾기 위한 슬라이싱\n",
    "listArray[-3:]"
   ]
  },
  {
   "cell_type": "markdown",
   "metadata": {},
   "source": [
    "다차원 형태의 리스트(혹은 튜플)에서도 슬라이싱이 가능합니다."
   ]
  },
  {
   "cell_type": "code",
   "execution_count": 74,
   "metadata": {},
   "outputs": [
    {
     "name": "stdout",
     "output_type": "stream",
     "text": [
      "[[1, 2, 3, 4, 5], [6, 7, 8, 9, 10], [11, 12, 13, 14, 15]]\n"
     ]
    }
   ],
   "source": [
    "# 리스트 배열 생성\n",
    "listArray = [[1, 2, 3, 4, 5], \n",
    "             [6, 7, 8, 9, 10],\n",
    "             [11, 12, 13, 14, 15]]\n",
    "print (listArray)"
   ]
  },
  {
   "cell_type": "code",
   "execution_count": 75,
   "metadata": {},
   "outputs": [
    {
     "data": {
      "text/plain": [
       "[3, 4]"
      ]
     },
     "execution_count": 75,
     "metadata": {},
     "output_type": "execute_result"
    }
   ],
   "source": [
    "# 3, 4를 찾기 위한 슬라이싱\n",
    "listArray[0][2:4]"
   ]
  },
  {
   "cell_type": "markdown",
   "metadata": {},
   "source": [
    "### 3.4. 제어문\n",
    "\n",
    "프로그램을 수행하다 보면, 같은 코드를 계속 사용해야 하는 경우가 있고, 유사한 코드를 반복적으로 사용해야 하는 경우가 있습니다.  \n",
    "또한, 특정한 조건에 따라 다른 코드를 사용하여 프로그램을 수행하는 경우도 발생합니다.  \n",
    "\n",
    "반복문과 조건문을 사용함으로써 동일하거나 유사한 코드를 반복적으로 사용하지 않고도 높은 성능을 가지는 프로그램을 개발할 수 있습니다.\n",
    "\n",
    "> 파이썬에서는 타 프로그래밍 언어에서 볼 수 있는 제어문의 시작과 끝을 표시하는 부호가 없습니다.  \n",
    "대신 들여쓰기가 그 역할을 대신하게 되며, 구분은 4칸의 공백(Space)입니다.  \n",
    "들여쓰기 공백의 개수가 다르게 되면 오류가 발생하므로 공백 개수에 유의하여 작성합니다."
   ]
  },
  {
   "cell_type": "markdown",
   "metadata": {},
   "source": [
    "#### 3.4.1. 반복문\n",
    "\n",
    "파이썬의 반복문은 for문과 while문이 있으며 아래와 같이 두 함수의 용도가 서로 다르므로, 그 용도를 정확하게 파악하고 사용합니다.  \n",
    "주로 for문의 경우, 한정되어 있는 변수를 사용하여 수행하는 경우에 사용하며 while문의 경우 조건이 만족될 때까지 반복적으로 수행해야 할 때 사용합니다. "
   ]
  },
  {
   "cell_type": "markdown",
   "metadata": {},
   "source": [
    "for문은 시작과 끝이 존재하며, 미리 지정된 횟수 혹은 변수의 크기만큼 수행 후 종료됩니다.  \n",
    "for문은 다음과 같이 사용할 수 있습니다.\n",
    ">    \n",
    "    for 반복문 변수 in 리스트(튜플, 문자열):\n",
    "        수행할 문장 1\n",
    "        수행할 문장 2\n",
    "        ..."
   ]
  },
  {
   "cell_type": "code",
   "execution_count": 78,
   "metadata": {},
   "outputs": [],
   "source": [
    "# 반복문에 쓰일 변수 선언\n",
    "rangeArray = range(5) # 0, 1, 2, 3, 4\n",
    "listArray = [1, 2, 3, 4, 5]\n",
    "tupleArray = (6, 7, 8, 9, 10)\n",
    "stringArray = ['A', 'B', 'C', 'D', 'E']"
   ]
  },
  {
   "cell_type": "code",
   "execution_count": 80,
   "metadata": {},
   "outputs": [
    {
     "name": "stdout",
     "output_type": "stream",
     "text": [
      "0\n",
      "1\n",
      "2\n",
      "3\n",
      "4\n"
     ]
    }
   ],
   "source": [
    "# for문을 사용한 변수 내부의 값 확인\n",
    "for i in rangeArray:\n",
    "    print(i)"
   ]
  },
  {
   "cell_type": "code",
   "execution_count": 81,
   "metadata": {},
   "outputs": [
    {
     "name": "stdout",
     "output_type": "stream",
     "text": [
      "1\n",
      "2\n",
      "3\n",
      "4\n",
      "5\n"
     ]
    }
   ],
   "source": [
    "# for문을 사용한 변수 내부의 값 확인\n",
    "for i in listArray:\n",
    "    print(i)"
   ]
  },
  {
   "cell_type": "code",
   "execution_count": 82,
   "metadata": {},
   "outputs": [
    {
     "name": "stdout",
     "output_type": "stream",
     "text": [
      "0\n",
      "1\n",
      "2\n",
      "3\n",
      "4\n"
     ]
    }
   ],
   "source": [
    "# for문을 사용한 변수 내부의 값 확인\n",
    "for i in rangeArray:\n",
    "    print(i)"
   ]
  },
  {
   "cell_type": "code",
   "execution_count": null,
   "metadata": {},
   "outputs": [],
   "source": [
    "# for문을 사용한 변수 내부의 값 확인\n"
   ]
  },
  {
   "cell_type": "markdown",
   "metadata": {},
   "source": [
    "while문은 시작만이 존재하며, 특정한 조건에 다다르면 반복문이 종료됩니다.  \n",
    "while문은 다음과 같이 사용할 수 있습니다.\n",
    ">       \n",
    "    while <조건문>:\n",
    "        수행할 문장 1\n",
    "        수행할 문장 2\n",
    "        ..."
   ]
  },
  {
   "cell_type": "code",
   "execution_count": 83,
   "metadata": {},
   "outputs": [
    {
     "name": "stdout",
     "output_type": "stream",
     "text": [
      "0\n",
      "1\n",
      "2\n",
      "3\n",
      "4\n"
     ]
    }
   ],
   "source": [
    "# while문을 사용한 반복문\n",
    "i = 0\n",
    "while i < 5:\n",
    "    print(i)\n",
    "    i = i + 1"
   ]
  },
  {
   "cell_type": "markdown",
   "metadata": {},
   "source": [
    "#### 3.4.2. 조건문\n",
    "\n",
    "파이썬의 조건문은 if를 사용하여 간단히 구현할 수 있습니다. 여기서 조건문이란, 참(True)/거짓(False)을 판단할 수 있는 문장을 말합니다.  \n",
    "조건문에 True인 경우 if문 바로 아래의 문장이 수행되며, 조건문이 False인 경우 else 아래의 문장이 수행되거나, else가 없는 경우 그대로 조건문이 끝납니다.\n",
    ">       \n",
    "    if <조건문>:\n",
    "        수행할 문장 1\n",
    "        수행할 문장 2\n",
    "        ...\n",
    "    else:\n",
    "        수행할 문장 1"
   ]
  },
  {
   "cell_type": "code",
   "execution_count": 84,
   "metadata": {},
   "outputs": [
    {
     "name": "stdout",
     "output_type": "stream",
     "text": [
      "Apple\n"
     ]
    }
   ],
   "source": [
    "# 문자형 변수 선언\n",
    "stringValue = 'Apple'\n",
    "\n",
    "# if문 수행\n",
    "if (stringValue == 'Baby'):\n",
    "    print('Baby')\n",
    "    \n",
    "else:\n",
    "    print(stringValue)"
   ]
  },
  {
   "cell_type": "markdown",
   "metadata": {},
   "source": [
    "if문을 사용하여 조건문을 구현하다 보면, 여러개의 조건을 통해 분류해야 하는 경우도 발생합니다.  \n",
    "이 경우, if와 else 사이에 elif를 사용하여 분류합니다.\n",
    "\n",
    ">       \n",
    "    if <조건문 1>:\n",
    "        수행할 문장 1\n",
    "        수행할 문장 2\n",
    "        ...\n",
    "    elif <조건문 2>:\n",
    "        수행할 문장 3\n",
    "        수행할 문장 4\n",
    "    else:\n",
    "        수행할 문장 5"
   ]
  },
  {
   "cell_type": "code",
   "execution_count": null,
   "metadata": {},
   "outputs": [],
   "source": [
    "# 문자형 변수 선언\n",
    "stringValue = 'Apple'\n",
    "\n",
    "# if문 수행\n"
   ]
  },
  {
   "cell_type": "markdown",
   "metadata": {},
   "source": [
    "## 4. 파이썬 패키지, 모듈, 라이브러리\n",
    "\n",
    "파이썬은 과학/공학적 계산이나 데이터 분석 및 머신러닝을 위한 용도, 더 나아가서는 웹이나 어플리케이션 프로그램 개발에도 사용됩니다.  \n",
    "파이썬 프로그램을 개발하면서 모든 함수나 기능들을 구현할 수는 없으므로 파이썬 사용자 혹은 기업, 재단에서 개발 및 배포된 기능을 사용합니다.\n",
    "\n",
    "이렇게 개발된 파이썬 파일을 모듈이라고 하며, 모듈을 모아 배포하는 것을 패키지라고 합니다.  \n",
    "또한, 모듈과 패키지를 통칭하여 라이브러리라고 표현하기도 합니다."
   ]
  },
  {
   "cell_type": "markdown",
   "metadata": {},
   "source": [
    "### 4.1. 주로 사용되는 패키지\n",
    "\n",
    "파이썬을 활용한 데이터 분석에 주로 사용되는 패키지는 다음과 같습니다.\n",
    "\n",
    "- numpy : 수학적 계산을 위하여 사용되는 라이브러리\n",
    "- matplotlib : 그래프 산출을 위하여 사용되는 라이브러리\n",
    "- pandas : 데이터 분석을 위해 사용되는 라이브러리\n",
    "- scipy : 공학적 계산을 위하여 사용되는 라이브러리\n",
    "- sklearn : 기계학습을 위해 사용되는 라이브러리\n",
    "\n",
    "> 본 수업에서는 Numpy와 Pandas 라이브러리를 간단히 익혀보도록 하겠습니다."
   ]
  },
  {
   "cell_type": "markdown",
   "metadata": {},
   "source": [
    "### 4.2. IMPORT MODULES\n",
    "\n",
    "패키지와 모듈을 Import 하는 부분은 SYSTEM, THIRD PARTY, USER 로 나누어져 있습니다.  \n",
    "하단의 예제와 같이 각각의 모듈의 호출순서는 상관없으나, 다음 같이 종류 별, 알파벳 순으로 나열함으로써 특정 라이브러리를 찾기 쉽게 정리합니다.\n",
    "\n",
    ">- SYSTEM : 각각 파이썬 재단의 패키지\n",
    "- THIRD PARTY : Numpy나 Pandas등의 다운로드가 필요한 패키지\n",
    "- USER : 개발자가 사용하기 위해 직접 만든 패키지 혹은 파일  \n",
    "\n",
    "패키지와 모듈을 import하는 방법은 아래 코드와 같습니다.\n",
    "> import <모듈명> : 모듈을 import 합니다.  \n",
    "import <모듈명> as <축약어명> : 모듈을 import 하나, 모듈명 대신 축약어명을 사용하여 호출할 수 있도록 합니다.  \n",
    "from <모듈명> import <함수명> : 모듈 중에서 함수 일부를 import 합니다."
   ]
  },
  {
   "cell_type": "code",
   "execution_count": null,
   "metadata": {},
   "outputs": [],
   "source": [
    "# PYTHON MODULES\n",
    "\n",
    "\n",
    "# THIRD PARTY MODULES\n",
    "\n",
    "\n",
    "# USER MODULE\n"
   ]
  },
  {
   "cell_type": "markdown",
   "metadata": {},
   "source": [
    "### 4.3. Numpy\n",
    "\n",
    "Numpy(Numerical Python)는 수학/과학 연산을 수행하는 파이썬 라이브러리로, 간단한 계산 및 난수 생성부터 대규모 행렬계산 혹은 수치해석 등의 계산까지 제공합니다.  \n",
    "데이터 분석을 위해 import하는 주요 라이브러리 중 하나로 Numpy 단독으로 사용하는 경우도 있지만 다른 라이브러리(Scikit-Learn, Pandas, Scipy 등)과 함께 사용되는 경우가 많습니다.\n",
    "\n",
    "#### 4.3.1. DOCUMENTS\n",
    "Numpy의 메서드들은 아래 웹 Documents에서 사용법을 찾을 수 있으며 예제코드가 함께 제공되므로 자주 확인하는 것이 좋습니다.  \n",
    "https://docs.scipy.org/doc/"
   ]
  },
  {
   "cell_type": "markdown",
   "metadata": {},
   "source": [
    "#### 4.3.2. 배열(Array)\n",
    "\n",
    "많은 숫자형 데이터나 다차원의 데이터를 처리하는데 파이썬의 리스트(List)는 속도가 느리고 메모리를 많이 차지하는 단점을 가지고 있습니다.  \n",
    "배열(Array)을 사용하면 빠른 처리를 사용할 수 있지만 파이썬에는 자체적으로 배열 자료형을 제공하지 않으므로, 이를 해결하기 위해서는 Numpy의 배열이나 Pandas의 DataFrame, Series를 사용합니다.\n",
    "\n",
    "Numpy의 배열은 다음과 같은 특징을 가지고 있습니다.\n",
    "1. 파이썬의 리스트와는 다르게 배열 안의 자료형이 전부 같아야 합니다.\n",
    "2. 배열의 접근은 변수명에 대괄호를 통해 배열 내부의 값을 확인할 수 있습니다.\n",
    "3. 배열의 크기와 차원에 대한 정보를 가지고 있습니다."
   ]
  },
  {
   "cell_type": "code",
   "execution_count": null,
   "metadata": {},
   "outputs": [],
   "source": [
    "# 파이썬 리스트 생성\n",
    "pythonList = [[1, 2, 3, 4, 5], \n",
    "              [6, 7, 8, 9, 10],\n",
    "              [11, 12, 13, 14, 15]]\n",
    "print (pythonList)"
   ]
  },
  {
   "cell_type": "code",
   "execution_count": null,
   "metadata": {},
   "outputs": [],
   "source": [
    "# 변수 타입 확인\n"
   ]
  },
  {
   "cell_type": "code",
   "execution_count": null,
   "metadata": {},
   "outputs": [],
   "source": [
    "# NUMPY 배열 생성\n"
   ]
  },
  {
   "cell_type": "code",
   "execution_count": null,
   "metadata": {},
   "outputs": [],
   "source": [
    "# 변수 타입 확인\n"
   ]
  },
  {
   "cell_type": "code",
   "execution_count": null,
   "metadata": {},
   "outputs": [],
   "source": [
    "# 변수의 차원 확인\n"
   ]
  },
  {
   "cell_type": "code",
   "execution_count": null,
   "metadata": {},
   "outputs": [],
   "source": [
    "# 변수의 행렬 크기 확인\n"
   ]
  },
  {
   "cell_type": "markdown",
   "metadata": {},
   "source": [
    "Numpy 배열도 파이썬의 리스트와 같이 인덱싱, 슬라이싱이 가능합니다.  \n",
    "Numpy 배열이 파이썬 리스트의 인덱싱과 슬라이싱이 다른점은, 다차원 배열에서 대괄호를 한번만 사용하여 인덱싱과 슬라이싱을 수행한다는 점 입니다."
   ]
  },
  {
   "cell_type": "code",
   "execution_count": null,
   "metadata": {},
   "outputs": [],
   "source": [
    "# 8이라는 값을 찾기 위한 인덱싱\n",
    "print (numpyArray[2, 3])"
   ]
  },
  {
   "cell_type": "code",
   "execution_count": null,
   "metadata": {},
   "outputs": [],
   "source": [
    "# NUMPY 배열 슬라이싱\n",
    "print (numpyArray[1:3, 2:4])"
   ]
  },
  {
   "cell_type": "markdown",
   "metadata": {},
   "source": [
    "#### 4.3.3. 배열의 기초통계\n",
    "\n",
    "Numpy는 그 이름과 같이 수학계산에 주로 사용되며, 기본적인 연산부터 기초 통계에 이르기까지 다양한 함수나 연산자를 통해 연산을 수행합니다.  \n",
    "단순한 연산은 파이썬의 기본 연산과 같으며, 기초 통계값은 Numpy의 함수를 통해 간편하게 계산할 수 있습니다."
   ]
  },
  {
   "cell_type": "code",
   "execution_count": null,
   "metadata": {},
   "outputs": [],
   "source": [
    "# NUMPY 배열 생성\n",
    "numpyArray = np.array([[1, 2, 3, 4, 5], \n",
    "                       [6, 7, 8, 9, 10],\n",
    "                       [11, 12, 13, 14, 15]], dtype=float) # 3x5 행렬을 생성합니다.\n",
    "print (numpyArray)"
   ]
  },
  {
   "cell_type": "code",
   "execution_count": null,
   "metadata": {},
   "outputs": [],
   "source": [
    "# 변수의 평균 계산\n"
   ]
  },
  {
   "cell_type": "code",
   "execution_count": null,
   "metadata": {},
   "outputs": [],
   "source": [
    "# 변수의 중앙값 계산\n"
   ]
  },
  {
   "cell_type": "code",
   "execution_count": null,
   "metadata": {},
   "outputs": [],
   "source": [
    "# 변수의 분산 계산\n"
   ]
  },
  {
   "cell_type": "code",
   "execution_count": null,
   "metadata": {},
   "outputs": [],
   "source": [
    "# 변수의 표준편차 계산\n"
   ]
  },
  {
   "cell_type": "markdown",
   "metadata": {},
   "source": [
    "### 4.4. Pandas 기초\n",
    "\n",
    "Pandas는 높은 수준의 자료 구조와 파이썬의 다양한 기능을 활용한 데이터 분석 라이브러리입니다.  \n",
    "상단에서 설명한 Numpy를 기반으로 개발되어 Numpy를 사용하는 프로그램 내부에서 자연스럽게 사용가능합니다.  \n",
    "Pandas는 파이썬을 활용한 데이터 분석에 가장 많이 사용되는 라이브러리로, 다음과 같은 기능을 가지고 있습니다.\n",
    "\n",
    "1. 자동적(혹은 명시적)으로 축에 할당된 이름에 따라 데이터를 정렬함\n",
    "2. 시계열 데이터 및 비시계열 데이터를 함께 사용가능한 통합자료구조 제공\n",
    "\n",
    "#### 4.4.1. DOCUMENTS\n",
    "Pandas의 메서드들은 아래 웹 Documents에서 사용법을 찾을 수 있으며 예제코드가 함께 제공되므로 자주 확인하는 것이 좋습니다.  \n",
    "https://pandas.pydata.org/pandas-docs/stable/index.html"
   ]
  },
  {
   "cell_type": "markdown",
   "metadata": {},
   "source": [
    "#### 4.4.2. Series\n",
    "\n",
    "Series는 일련의 객체를 담을 수 있는 1차원 배열과 같은 구조입니다.  \n",
    "Index라는 배열의 순서 데이터에 연관된 이름을 가지고 있으며 간단한 Series객체는 배열 데이터로부터 생성할 수 있습니다.  \n",
    "또한, Series 객체의 인덱스는 명시적으로 선언가능하며, 해당 인덱스를 사용하거나 배열의 번호를 사용하여 Series의 값을 확인할 수 있습니다."
   ]
  },
  {
   "cell_type": "code",
   "execution_count": null,
   "metadata": {},
   "outputs": [],
   "source": [
    "# Series 생성\n"
   ]
  },
  {
   "cell_type": "code",
   "execution_count": null,
   "metadata": {},
   "outputs": [],
   "source": [
    "# Series에 자동으로 부여되는 인덱스 값\n"
   ]
  },
  {
   "cell_type": "code",
   "execution_count": null,
   "metadata": {},
   "outputs": [],
   "source": [
    "# Series에 명시적으로 인덱스 부여\n"
   ]
  },
  {
   "cell_type": "code",
   "execution_count": null,
   "metadata": {},
   "outputs": [],
   "source": [
    "# Series에 자동으로 부여되는 인덱스 값\n"
   ]
  },
  {
   "cell_type": "markdown",
   "metadata": {},
   "source": [
    "#### 4.4.3. DataFrame\n",
    "\n",
    "DataFrame은 스프레드시트 형식의 2차원 구조입니다.  \n",
    "인덱스와 컬럼을 사용하여 데이터를 담을 수 있으며, 각 인덱스들은 각기 다른 데이터 형태의 값을 가질 수 있습니다.  \n",
    "DataFrame 객체는 2차원 배열 혹은 딕셔너리 타입의 데이터를 사용하여 생성할 수 있으며, 인덱스와 컬럼의 명칭은 명시적으로 선언할 수 있습니다.  \n",
    "인덱스와 컬럼을 사용하여 DataFrame 내부의 값을 확인할 수 있습니다."
   ]
  },
  {
   "cell_type": "code",
   "execution_count": null,
   "metadata": {},
   "outputs": [],
   "source": [
    "# DataFrame 생성\n"
   ]
  },
  {
   "cell_type": "code",
   "execution_count": null,
   "metadata": {},
   "outputs": [],
   "source": [
    "# DataFrame에 명시적으로 인덱스 부여\n"
   ]
  },
  {
   "cell_type": "markdown",
   "metadata": {},
   "source": [
    "Pandas 역시 Numpy와 마찬가지로 인덱싱을 지원하며, Series와 DataFrame 모두 인덱싱에 두가지 방법을 제공합니다.\n",
    "\n",
    "1. 인덱스의 번호를 사용한 접근방식\n",
    "2. 인덱스의 순서를 사용한 접근방식\n",
    "\n",
    "두 인덱싱 방식을 제공하게 된 원인은, 아래와 같이 데이터 세트의 인덱스 번호가 항상 그 순서와 같지 않다는 점에서 비롯되었습니다.  "
   ]
  },
  {
   "cell_type": "code",
   "execution_count": null,
   "metadata": {},
   "outputs": [],
   "source": [
    "# Series에 명시적으로 인덱스 부여\n",
    "seriesValue = pd.Series([4, 7, -5, 8], index=[3, 4, 2, 1])\n",
    "seriesValue"
   ]
  },
  {
   "cell_type": "code",
   "execution_count": null,
   "metadata": {},
   "outputs": [],
   "source": [
    "# 인덱스의 번호를 사용한 접근방식\n"
   ]
  },
  {
   "cell_type": "code",
   "execution_count": null,
   "metadata": {},
   "outputs": [],
   "source": [
    "# 인덱스의 순서를 사용한 접근방식\n"
   ]
  },
  {
   "cell_type": "code",
   "execution_count": null,
   "metadata": {},
   "outputs": [],
   "source": [
    "# DataFrame에 명시적으로 인덱스 부여\n",
    "dataFrame = pd.DataFrame({'state' : ['Ohio', 'Ohio', 'Ohio', 'Nevada', 'Nevada'], # 딕셔너리 자료형의 데이터를 사용한 DataFrame 생성합니다.\n",
    "                          'year' : [2000, 2001, 2002, 2001, 2002],\n",
    "                          'pop' : [1.5, 1.7, 3.6, 2.4, 2.9]},\n",
    "                         index=[3, 2, 5, 1, 4]) # 인덱스를 명시적으로 부여합니다. 또한, 인덱스의 순서와 다른 번호를 부여하였습니다.\n",
    "dataFrame"
   ]
  },
  {
   "cell_type": "code",
   "execution_count": null,
   "metadata": {},
   "outputs": [],
   "source": [
    "# 인덱스의 번호를 사용한 접근방식\n"
   ]
  },
  {
   "cell_type": "code",
   "execution_count": null,
   "metadata": {},
   "outputs": [],
   "source": [
    "# 인덱스의 순서를 사용한 접근방식\n"
   ]
  }
 ],
 "metadata": {
  "kernelspec": {
   "display_name": "Python 3",
   "language": "python",
   "name": "python3"
  },
  "language_info": {
   "codemirror_mode": {
    "name": "ipython",
    "version": 3
   },
   "file_extension": ".py",
   "mimetype": "text/x-python",
   "name": "python",
   "nbconvert_exporter": "python",
   "pygments_lexer": "ipython3",
   "version": "3.7.3"
  }
 },
 "nbformat": 4,
 "nbformat_minor": 4
}
